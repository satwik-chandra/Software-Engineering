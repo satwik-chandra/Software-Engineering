{
 "cells": [
  {
   "cell_type": "code",
   "execution_count": 1,
   "source": [
    "class Node:\r\n",
    "    # Constructor to create a new binary node\r\n",
    "    def __init__(self, key):\r\n",
    "        self.key =  key\r\n",
    "        self.left = None\r\n",
    "        self.right = None\r\n",
    " "
   ],
   "outputs": [],
   "metadata": {}
  },
  {
   "cell_type": "code",
   "execution_count": 2,
   "source": [
    "def findPath( root, path, k):\r\n",
    " \r\n",
    "    # Baes Case\r\n",
    "    if root is None:\r\n",
    "        return False\r\n",
    " \r\n",
    "    # Store this node is path vector. The node will be\r\n",
    "    # removed if not in path from root to k\r\n",
    "    path.append(root.key)\r\n",
    " \r\n",
    "    # See if the k is same as root's key\r\n",
    "    if root.key == k :\r\n",
    "        return True\r\n",
    " \r\n",
    "    # Check if k is found in left or right sub-tree\r\n",
    "    if ((root.left != None and findPath(root.left, path, k)) or\r\n",
    "            (root.right!= None and findPath(root.right, path, k))):\r\n",
    "        return True\r\n",
    " \r\n",
    "    # If not present in subtree rooted with root, remove\r\n",
    "    # root from path and return False\r\n",
    "      \r\n",
    "    path.pop()\r\n",
    "    return False"
   ],
   "outputs": [],
   "metadata": {}
  },
  {
   "cell_type": "code",
   "execution_count": 3,
   "source": [
    "def findLCA(root, n1, n2):\r\n",
    " \r\n",
    "    # To store paths to n1 and n2 fromthe root\r\n",
    "    path1 = []\r\n",
    "    path2 = []\r\n",
    " \r\n",
    "    # Find paths from root to n1 and root to n2.\r\n",
    "    # If either n1 or n2 is not present , return -1\r\n",
    "    if (not findPath(root, path1, n1) or not findPath(root, path2, n2)):\r\n",
    "        return -1\r\n",
    " \r\n",
    "    # Compare the paths to get the first different value\r\n",
    "    i = 0\r\n",
    "    while(i < len(path1) and i < len(path2)):\r\n",
    "        if path1[i] != path2[i]:\r\n",
    "            break\r\n",
    "        i += 1\r\n",
    "    return path1[i-1]"
   ],
   "outputs": [],
   "metadata": {}
  },
  {
   "cell_type": "code",
   "execution_count": 4,
   "source": [
    "root = Node(1)\r\n",
    "root.left = Node(2)\r\n",
    "root.right = Node(3)\r\n",
    "root.left.left = Node(4)\r\n",
    "root.left.right = Node(5)\r\n",
    "root.right.left = Node(6)\r\n",
    "root.right.right = Node(7)\r\n",
    " \r\n",
    "print (\"LCA(4, 5) = %d\" %(findLCA(root, 4, 5,)))\r\n",
    "print (\"LCA(4, 6) = %d\" %(findLCA(root, 4, 6)))\r\n",
    "print (\"LCA(3, 4) = %d\" %(findLCA(root,3,4)))\r\n",
    "print (\"LCA(2, 4) = %d\" %(findLCA(root,2, 4)))"
   ],
   "outputs": [
    {
     "output_type": "stream",
     "name": "stdout",
     "text": [
      "LCA(4, 5) = 2\n",
      "LCA(4, 6) = 1\n",
      "LCA(3, 4) = 1\n",
      "LCA(2, 4) = 2\n"
     ]
    }
   ],
   "metadata": {}
  }
 ],
 "metadata": {
  "orig_nbformat": 4,
  "language_info": {
   "name": "python",
   "version": "3.7.3",
   "mimetype": "text/x-python",
   "codemirror_mode": {
    "name": "ipython",
    "version": 3
   },
   "pygments_lexer": "ipython3",
   "nbconvert_exporter": "python",
   "file_extension": ".py"
  },
  "kernelspec": {
   "name": "python3",
   "display_name": "Python 3.7.3 64-bit ('base': conda)"
  },
  "interpreter": {
   "hash": "8a78811bf43473164da5754711c14693fbfb451244d007ad40042ff75f0c4671"
  }
 },
 "nbformat": 4,
 "nbformat_minor": 2
}